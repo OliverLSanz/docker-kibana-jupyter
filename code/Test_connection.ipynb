{
 "cells": [
  {
   "cell_type": "code",
   "execution_count": 1,
   "metadata": {},
   "outputs": [],
   "source": [
    "import pyspark\n",
    "import json\n",
    "import requests"
   ]
  },
  {
   "cell_type": "code",
   "execution_count": 2,
   "metadata": {},
   "outputs": [],
   "source": [
    "sc = pyspark.SparkContext()\n",
    "sqlCtx = pyspark.SQLContext(sc)"
   ]
  },
  {
   "cell_type": "code",
   "execution_count": 9,
   "metadata": {},
   "outputs": [],
   "source": [
    "values = [\n",
    "    ('HELLO', 'WORLD'),\n",
    "    ('hello', 'world')\n",
    "]\n",
    "\n",
    "schema = ['firstWord', 'secondWord']\n",
    "\n",
    "df = sqlCtx.createDataFrame(values, schema)"
   ]
  },
  {
   "cell_type": "code",
   "execution_count": 6,
   "metadata": {},
   "outputs": [],
   "source": [
    "def insert_into_elastic(pandasDataFrame, index='tmp_index', typ = 'test', server ='elasticsearch', chunk_size = 2000):\n",
    "    headers = {'content-type': 'application/x-ndjson', 'Accept-Charset': 'UTF-8'}\n",
    "    dataFrameRowsJson =[v.dropna().to_json() for k,v in pandasDataFrame.iterrows()]\n",
    "    rowsToSend = ['{ \"index\" : { \"_index\" : \"%s\", \"_type\" : \"%s\"} }\\n%s' % (index, typ, rowJson) \n",
    "               for rowJson in dataFrameRowsJson]\n",
    "    i=0\n",
    "    cuenta_errores=0\n",
    "    while i<len(rowsToSend):\n",
    "        serverAPI = 'http://'+server+':9200/_bulk/' \n",
    "        data='\\n'.join(rowsToSend[i:min([i+chunk_size,len(rowsToSend)])])\n",
    "        data = data + '\\n'\n",
    "        r = requests.post(serverAPI, data=data, headers=headers)\n",
    "        i = i + chunk_size\n",
    "        r = json.loads(r.content)\n",
    "        for item in r['items']:\n",
    "            if item['index']['status']!=201:\n",
    "                #print item['index']\n",
    "                #logger.info('Error en la insercción de ELASTICSEARCH: '+ str(item['index']))\n",
    "                cuenta_errores=cuenta_errores+1\n",
    "    return 'Number of errors: %s' % cuenta_errores"
   ]
  },
  {
   "cell_type": "code",
   "execution_count": 10,
   "metadata": {},
   "outputs": [
    {
     "data": {
      "text/plain": [
       "'Number of errors: 0'"
      ]
     },
     "execution_count": 10,
     "metadata": {},
     "output_type": "execute_result"
    }
   ],
   "source": [
    "insert_into_elastic(df.toPandas(),index='test_index', server = 'elasticsearch', chunk_size = 2000)"
   ]
  },
  {
   "cell_type": "code",
   "execution_count": null,
   "metadata": {},
   "outputs": [],
   "source": []
  }
 ],
 "metadata": {
  "kernelspec": {
   "display_name": "Python 3",
   "language": "python",
   "name": "python3"
  },
  "language_info": {
   "codemirror_mode": {
    "name": "ipython",
    "version": 3
   },
   "file_extension": ".py",
   "mimetype": "text/x-python",
   "name": "python",
   "nbconvert_exporter": "python",
   "pygments_lexer": "ipython3",
   "version": "3.6.5"
  }
 },
 "nbformat": 4,
 "nbformat_minor": 2
}
